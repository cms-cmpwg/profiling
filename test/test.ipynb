{
 "cells": [
  {
   "cell_type": "code",
   "execution_count": 6,
   "metadata": {},
   "outputs": [
    {
     "name": "stderr",
     "output_type": "stream",
     "text": [
      "Using TensorFlow backend.\n"
     ]
    }
   ],
   "source": [
    "import numpy as np\n",
    "import tensorflow as tf\n",
    "import  keras"
   ]
  },
  {
   "cell_type": "code",
   "execution_count": 4,
   "metadata": {},
   "outputs": [
    {
     "name": "stdout",
     "output_type": "stream",
     "text": [
      "[[0.32012632 0.3780392 ]\n",
      " [0.47483807 0.03392171]\n",
      " [0.26604032 0.55652661]\n",
      " [0.84476479 0.67756001]\n",
      " [0.41867659 0.27576542]\n",
      " [0.85477895 0.17025497]\n",
      " [0.79199303 0.32658916]\n",
      " [0.46616081 0.13826628]\n",
      " [0.71855397 0.5999806 ]\n",
      " [0.19530133 0.0242261 ]]\n"
     ]
    }
   ],
   "source": [
    "x = np.random.sample((10, 2))\n",
    "print(x)"
   ]
  },
  {
   "cell_type": "code",
   "execution_count": 7,
   "metadata": {},
   "outputs": [],
   "source": [
    "dataset = tf.data.Dataset.from_tensor_slices(x)"
   ]
  },
  {
   "cell_type": "code",
   "execution_count": 9,
   "metadata": {},
   "outputs": [],
   "source": [
    "iterator = dataset.make_one_shot_iterator()\n",
    "next_element = iterator.get_next()"
   ]
  },
  {
   "cell_type": "code",
   "execution_count": 11,
   "metadata": {},
   "outputs": [
    {
     "name": "stdout",
     "output_type": "stream",
     "text": [
      "[0.32012632 0.3780392 ]\n",
      "[0.47483807 0.03392171]\n",
      "[0.26604032 0.55652661]\n",
      "[0.84476479 0.67756001]\n",
      "[0.41867659 0.27576542]\n",
      "[0.85477895 0.17025497]\n",
      "[0.79199303 0.32658916]\n",
      "[0.46616081 0.13826628]\n",
      "[0.71855397 0.5999806 ]\n",
      "[0.19530133 0.0242261 ]\n"
     ]
    }
   ],
   "source": [
    "with tf.Session() as sess:\n",
    "    while True:\n",
    "        try:\n",
    "            print(sess.run(next_element))\n",
    "        except tf.errors.OutOfRangeError:\n",
    "            break"
   ]
  },
  {
   "cell_type": "code",
   "execution_count": null,
   "metadata": {},
   "outputs": [],
   "source": []
  }
 ],
 "metadata": {
  "kernelspec": {
   "display_name": "Python 3",
   "language": "python",
   "name": "python3"
  },
  "language_info": {
   "codemirror_mode": {
    "name": "ipython",
    "version": 3
   },
   "file_extension": ".py",
   "mimetype": "text/x-python",
   "name": "python",
   "nbconvert_exporter": "python",
   "pygments_lexer": "ipython3",
   "version": "3.6.2"
  }
 },
 "nbformat": 4,
 "nbformat_minor": 2
}
