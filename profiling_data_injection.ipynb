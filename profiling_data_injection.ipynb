{
 "cells": [
  {
   "cell_type": "code",
   "execution_count": 1,
   "id": "vietnamese-honor",
   "metadata": {},
   "outputs": [
    {
     "name": "stdout",
     "output_type": "stream",
     "text": [
      "Requirement already satisfied: CMSMonitoring in /eos/home-g/gartung/.local/lib/python3.8/site-packages (0.3.3)\n",
      "Collecting stomp.py==4.1.21\n",
      "  Downloading stomp.py-4.1.21.tar.gz (49 kB)\n",
      "\u001b[K     |████████████████████████████████| 49 kB 4.0 MB/s eta 0:00:011\n",
      "\u001b[?25hRequirement already satisfied: genson>=1.0.2 in /eos/home-g/gartung/.local/lib/python3.8/site-packages (from CMSMonitoring) (1.2.2)\n",
      "Requirement already satisfied: jsonschema>=2.6.0 in /cvmfs/sft.cern.ch/lcg/views/LCG_100/x86_64-centos7-gcc8-opt/lib/python3.8/site-packages (from CMSMonitoring) (3.2.0)\n",
      "Requirement already satisfied: docopt>=0.6.2 in /cvmfs/sft.cern.ch/lcg/views/LCG_100/x86_64-centos7-gcc8-opt/lib/python3.8/site-packages (from stomp.py==4.1.21->CMSMonitoring) (0.6.2)\n",
      "Requirement already satisfied: attrs>=17.4.0 in /cvmfs/sft.cern.ch/lcg/views/LCG_100/x86_64-centos7-gcc8-opt/lib/python3.8/site-packages (from jsonschema>=2.6.0->CMSMonitoring) (19.3.0)\n",
      "Requirement already satisfied: pyrsistent>=0.14.0 in /cvmfs/sft.cern.ch/lcg/views/LCG_100/x86_64-centos7-gcc8-opt/lib/python3.8/site-packages (from jsonschema>=2.6.0->CMSMonitoring) (0.15.2)\n",
      "Requirement already satisfied: setuptools in /cvmfs/sft.cern.ch/lcg/views/LCG_100/x86_64-centos7-gcc8-opt/lib/python3.8/site-packages (from jsonschema>=2.6.0->CMSMonitoring) (44.1.0)\n",
      "Requirement already satisfied: six>=1.11.0 in /cvmfs/sft.cern.ch/lcg/views/LCG_100/x86_64-centos7-gcc8-opt/lib/python3.8/site-packages (from jsonschema>=2.6.0->CMSMonitoring) (1.12.0)\n",
      "Building wheels for collected packages: stomp.py\n",
      "  Building wheel for stomp.py (setup.py) ... \u001b[?25ldone\n",
      "\u001b[?25h  Created wheel for stomp.py: filename=stomp.py-4.1.21-py2.py3-none-any.whl size=38552 sha256=338c52eccc4064c488aa0fe802de879a9b700d32f61421aeef07179aa023459a\n",
      "  Stored in directory: /tmp/gartung/.cache/pip/wheels/ba/30/2a/989957ebacf5e70e983563f756f871148a3f54b66ae41049c1\n",
      "Successfully built stomp.py\n",
      "Installing collected packages: stomp.py\n",
      "\u001b[33m  WARNING: The script stomp is installed in '/eos/user/g/gartung/.local/bin' which is not on PATH.\n",
      "  Consider adding this directory to PATH or, if you prefer to suppress this warning, use --no-warn-script-location.\u001b[0m\n",
      "Successfully installed stomp.py-4.1.21\n",
      "Note: you may need to restart the kernel to use updated packages.\n",
      "['/eos/user/g/gartung/.local/lib/python3.8/site-packages', '/cvmfs/sft.cern.ch/lcg/views/LCG_100/x86_64-centos7-gcc8-opt/python', '/cvmfs/sft.cern.ch/lcg/views/LCG_100/x86_64-centos7-gcc8-opt/lib', '', '/cvmfs/sft.cern.ch/lcg/views/LCG_100/x86_64-centos7-gcc8-opt/lib/python3.8/site-packages', '/cvmfs/sft.cern.ch/lcg/releases/Python/3.8.6-3199b/x86_64-centos7-gcc8-opt/lib/python38.zip', '/cvmfs/sft.cern.ch/lcg/releases/Python/3.8.6-3199b/x86_64-centos7-gcc8-opt/lib/python3.8', '/cvmfs/sft.cern.ch/lcg/releases/Python/3.8.6-3199b/x86_64-centos7-gcc8-opt/lib/python3.8/lib-dynload', '/eos/user/g/gartung/.local/lib/python3.8/site-packages', '/cvmfs/sft.cern.ch/lcg/releases/Python/3.8.6-3199b/x86_64-centos7-gcc8-opt/lib/python3.8/site-packages', '/cvmfs/sft.cern.ch/lcg/views/LCG_100/x86_64-centos7-gcc8-opt/lib/python3.8/site-packages/IPython/extensions', '/scratch/gartung/.ipython']\n"
     ]
    }
   ],
   "source": [
    "# The jupyter magic command will install the package (this notebook was produced with the version 0.3.3)\n",
    "%pip install --user CMSMonitoring\n",
    "# As the package is installed in the user space we will need to update the sys.path list \n",
    "# to use it. This is only necessary if you don't want to restart the kernel.\n",
    "# (i.e. you will not need to do this in a script.)\n",
    "import sys\n",
    "import site\n",
    "sys.path.insert(0,site.getusersitepackages())\n",
    "print(sys.path)"
   ]
  },
  {
   "cell_type": "code",
   "execution_count": 2,
   "id": "hourly-recorder",
   "metadata": {},
   "outputs": [],
   "source": [
    "import os\n",
    "import json\n",
    "import time\n",
    "from itertools import islice\n",
    "from CMSMonitoring.StompAMQ import StompAMQ"
   ]
  },
  {
   "cell_type": "code",
   "execution_count": 3,
   "id": "prescribed-flower",
   "metadata": {},
   "outputs": [],
   "source": [
    "def splitall(path):\n",
    "    allparts = []\n",
    "    while 1:\n",
    "        parts = os.path.split(path)\n",
    "        if parts[0] == path:  # sentinel for absolute paths\n",
    "            allparts.insert(0, parts[0])\n",
    "            break\n",
    "        elif parts[1] == path: # sentinel for relative paths\n",
    "            allparts.insert(0, parts[1])\n",
    "            break\n",
    "        else:\n",
    "            path = parts[0]\n",
    "            allparts.insert(0, parts[1])\n",
    "    return allparts\n"
   ]
  },
  {
   "cell_type": "code",
   "execution_count": 4,
   "id": "dominican-assurance",
   "metadata": {},
   "outputs": [],
   "source": [
    "def IB2ts(release):\n",
    "  from datetime import datetime\n",
    "  rel_msec  = int(datetime.strptime(release.split(\"_\")[-1], '%Y-%m-%d-%H%M',).strftime('%s'))*1000\n",
    "  return rel_msec\n",
    "\n",
    "def IB2relq(release):\n",
    "    if \"_X_\" in release:\n",
    "        release_queue = release.split(\"_X_\",1)[0]+\"_X\"\n",
    "    else:\n",
    "        release_queue = \"_\".join(release.split(\"_\")[:3])+\"_X\"\n",
    "    return release_queue"
   ]
  },
  {
   "cell_type": "code",
   "execution_count": 5,
   "id": "informative-drilling",
   "metadata": {},
   "outputs": [
    {
     "name": "stderr",
     "output_type": "stream",
     "text": [
      "WARNING:StompAMQ:No document validation performed!\n"
     ]
    }
   ],
   "source": [
    "username = \"\"\n",
    "password = \"\"\n",
    "producer = \"cms-cmpwg\"\n",
    "topic = \"/topic/cms.cmpwg\"\n",
    "host = \"cms-mb.cern.ch\"\n",
    "port = 61323\n",
    "cert = \"/eos/user/g/gartung/.globus/usercert.pem\"\n",
    "ckey = \"/eos/user/g/gartung/.globus/userkey.pem\"\n",
    "stomp_amq = StompAMQ(username, password, producer, topic, key=ckey, cert=cert, validation_schema=None, host_and_ports=[(host, port)])\n"
   ]
  },
  {
   "cell_type": "code",
   "execution_count": 6,
   "id": "square-accent",
   "metadata": {},
   "outputs": [
    {
     "data": {
      "text/plain": [
       "<stomp.connect.StompConnection11 at 0x7f0cddcd5b50>"
      ]
     },
     "execution_count": 6,
     "metadata": {},
     "output_type": "execute_result"
    }
   ],
   "source": [
    "stomp_amq.connect()"
   ]
  },
  {
   "cell_type": "code",
   "execution_count": 7,
   "id": "handed-parker",
   "metadata": {},
   "outputs": [],
   "source": [
    "with open('packages.json', 'r') as file:\n",
    "    packages=json.load(file)"
   ]
  },
  {
   "cell_type": "code",
   "execution_count": 8,
   "id": "hawaiian-partnership",
   "metadata": {},
   "outputs": [],
   "source": [
    "from typing.re import Pattern\n",
    "def matchPattern(pattern,text):\n",
    "    if pattern is None:\n",
    "        return True\n",
    "    if isinstance(pattern, Pattern): \n",
    "        return re.match(pattern, text)\n",
    "    return (pattern == text)"
   ]
  },
  {
   "cell_type": "code",
   "execution_count": 9,
   "id": "aware-checkout",
   "metadata": {},
   "outputs": [],
   "source": [
    "import re\n",
    "compiled=[]\n",
    "for key in packages.keys():\n",
    "    if '|' in key:\n",
    "        [t,l]=key.split('|')\n",
    "        t=re.compile(t)\n",
    "        l=re.compile(l)\n",
    "    else:\n",
    "        t=None\n",
    "        l=re.compile(key)\n",
    "    compiled.append([t,l,packages[key]])\n",
    "    \n",
    "def findGroup(data):\n",
    "    unassigned=[]\n",
    "    assigned=False\n",
    "    group='Unassigned|Unassigned'\n",
    "    for [t,l,g] in compiled:\n",
    "        if re.match(t,data['module_type']) and re.match(l,data['module_label']):\n",
    "            assigned=True\n",
    "            group=g\n",
    "            break\n",
    "    return group.split('|')"
   ]
  },
  {
   "cell_type": "code",
   "execution_count": null,
   "id": "heated-binary",
   "metadata": {},
   "outputs": [],
   "source": [
    "import glob\n",
    "import hashlib\n",
    "documents=[]\n",
    "for f in glob.glob('/eos/project/c/cmsweb/www/cmscmp/circles/web/data/CMSSW_*_X_*/*amd64*/*/*.json'):\n",
    "        with open(f,'r') as file:\n",
    "                dirs=splitall(f)\n",
    "                data=json.load(file)\n",
    "                total=data.get(\"total\")\n",
    "                payload={}\n",
    "                payload[\"module_label\"]=str(total.get(\"label\",\"no label\"))\n",
    "                payload[\"module_type\"]=str(total.get(\"type\",\"no type\"))\n",
    "                [subsystem,package]=findGroup(payload)\n",
    "                payload[\"module_package\"]=str(package)\n",
    "                payload[\"module_subsystem\"]=str(subsystem)\n",
    "                payload[str(payload[\"module_type\"])]=str(payload[\"module_label\"])\n",
    "                payload[\"events\"]=int(total.get(\"events\", 0))\n",
    "                payload[\"time_thread\"]=float(total.get(\"time_thread\",0.))\n",
    "                payload[\"time_real\"]=float(total.get(\"time_real\",0.))\n",
    "                payload[\"mem_alloc\"]=int(total.get(\"mem_alloc\",0))\n",
    "                payload[\"mem_free\"]=int(total.get(\"mem_free\",0))\n",
    "                release=str(dirs[-4])\n",
    "                arch=str(dirs[-3])\n",
    "                workflow=str(dirs[-2])\n",
    "                release_queue=str(IB2relq(release))\n",
    "                release_ts=int(IB2ts(release))\n",
    "                str2hash=release+arch+workflow+str(release_ts)+payload.get(\"module_label\")\n",
    "                rhash=hashlib.sha1(str2hash.encode()).hexdigest()\n",
    "                payload[\"release\"]=release\n",
    "                payload[\"release_queue\"]=release_queue\n",
    "                payload[\"release_ts\"]=release_ts \n",
    "                payload[\"workflow\"]=workflow\n",
    "                payload[\"arch\"]=arch\n",
    "                payload[\"hash\"]=rhash\n",
    "                notification, _, _ = stomp_amq.make_notification(payload,\"profiling_document\",dataSubfield=None)\n",
    "                documents.append(notification)\n",
    "                modules=data.get(\"modules\")\n",
    "                for module in modules:\n",
    "                    mpayload={}\n",
    "                    mpayload[\"module_type\"]=str(module.get(\"type\",\"no type\"))\n",
    "                    mpayload[\"module_label\"]=str(module.get(\"label\",\"no label\"))\n",
    "                    [subsystem,package]=findGroup(mpayload)\n",
    "                    mpayload[\"module_package\"]=str(package)\n",
    "                    mpayload[\"module_subsystem\"]=str(subsystem)\n",
    "                    mpayload[str(payload[\"module_type\"])]=str(payload[\"module_label\"])\n",
    "                    mpayload[\"events\"]=int(module.get(\"events\", 0))\n",
    "                    mpayload[\"time_thread\"]=float(module.get(\"time_thread\",0.))\n",
    "                    mpayload[\"time_real\"]=float(module.get(\"time_real\",0.))\n",
    "                    mpayload[\"mem_alloc\"]=int(module.get(\"mem_alloc\",0))\n",
    "                    mpayload[\"mem_free\"]=int(module.get(\"mem_free\",0))\n",
    "                    mpayload[\"release\"]=release\n",
    "                    mpayload[\"release_queue\"]=release_queue\n",
    "                    mpayload[\"release_ts\"]=release_ts\n",
    "                    mpayload[\"workflow\"]=workflow\n",
    "                    mpayload[\"arch\"]=arch\n",
    "                    str2hash=release+arch+workflow+str(release_ts)+mpayload.get(\"module_label\")\n",
    "                    mhash=hashlib.sha1(str2hash.encode()).hexdigest()\n",
    "                    mpayload[\"hash\"]=mhash\n",
    "                    notification, _, _ = stomp_amq.make_notification(mpayload,\"profiling_document\",dataSubfield=None)\n",
    "                    documents.append(notification)"
   ]
  },
  {
   "cell_type": "code",
   "execution_count": null,
   "id": "intimate-vessel",
   "metadata": {},
   "outputs": [],
   "source": [
    "print(documents[0])"
   ]
  },
  {
   "cell_type": "code",
   "execution_count": null,
   "id": "latest-major",
   "metadata": {},
   "outputs": [],
   "source": [
    "print(documents[1])"
   ]
  },
  {
   "cell_type": "code",
   "execution_count": null,
   "id": "continuous-camel",
   "metadata": {},
   "outputs": [],
   "source": [
    "print(documents[2])"
   ]
  },
  {
   "cell_type": "code",
   "execution_count": null,
   "id": "gorgeous-static",
   "metadata": {},
   "outputs": [],
   "source": [
    "print(documents[10])"
   ]
  },
  {
   "cell_type": "code",
   "execution_count": null,
   "id": "ranking-denial",
   "metadata": {},
   "outputs": [],
   "source": [
    "print(documents[100])"
   ]
  },
  {
   "cell_type": "code",
   "execution_count": null,
   "id": "emerging-courtesy",
   "metadata": {},
   "outputs": [],
   "source": [
    "print(documents[-1000])"
   ]
  },
  {
   "cell_type": "code",
   "execution_count": null,
   "id": "australian-samba",
   "metadata": {},
   "outputs": [],
   "source": [
    "print(documents[-100])"
   ]
  },
  {
   "cell_type": "code",
   "execution_count": null,
   "id": "coastal-algeria",
   "metadata": {},
   "outputs": [],
   "source": [
    "print(documents[-10])"
   ]
  },
  {
   "cell_type": "code",
   "execution_count": null,
   "id": "destroyed-research",
   "metadata": {},
   "outputs": [],
   "source": [
    "print(documents[-1])"
   ]
  },
  {
   "cell_type": "code",
   "execution_count": null,
   "id": "reflected-archives",
   "metadata": {},
   "outputs": [],
   "source": [
    "results=stomp_amq.send(documents)\n",
    "print(\"results\", results)"
   ]
  },
  {
   "cell_type": "code",
   "execution_count": null,
   "id": "simple-bidding",
   "metadata": {},
   "outputs": [],
   "source": []
  }
 ],
 "metadata": {
  "celltoolbar": "Raw Cell Format",
  "kernelspec": {
   "display_name": "Python 3",
   "language": "python",
   "name": "python3"
  },
  "language_info": {
   "codemirror_mode": {
    "name": "ipython",
    "version": 3
   },
   "file_extension": ".py",
   "mimetype": "text/x-python",
   "name": "python",
   "nbconvert_exporter": "python",
   "pygments_lexer": "ipython3",
   "version": "3.8.6"
  }
 },
 "nbformat": 4,
 "nbformat_minor": 5
}
